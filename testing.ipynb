{
 "cells": [
  {
   "cell_type": "markdown",
   "metadata": {},
   "source": [
    "# PocketFlow Research Agent Test"
   ]
  },
  {
   "cell_type": "code",
   "execution_count": 3,
   "metadata": {},
   "outputs": [
    {
     "name": "stderr",
     "output_type": "stream",
     "text": [
      "INFO:root:Starting Research Agent Test...\n",
      "INFO:root:Research Agent flow connections defined.\n",
      "INFO:root:Research Agent flow created.\n",
      "INFO:root:Running the Research Agent flow...\n"
     ]
    },
    {
     "ename": "",
     "evalue": "",
     "output_type": "error",
     "traceback": [
      "\u001b[1;31mThe Kernel crashed while executing code in the current cell or a previous cell. \n",
      "\u001b[1;31mPlease review the code in the cell(s) to identify a possible cause of the failure. \n",
      "\u001b[1;31mClick <a href='https://aka.ms/vscodeJupyterKernelCrash'>here</a> for more info. \n",
      "\u001b[1;31mView Jupyter <a href='command:jupyter.viewOutput'>log</a> for further details."
     ]
    }
   ],
   "source": [
    "import logging\n",
    "from flow import create_research_agent_flow\n",
    "\n",
    "# Configure logging\n",
    "logging.basicConfig(level=logging.INFO, format='%(asctime)s - %(levelname)s - %(message)s')\n",
    "\n",
    "def run_agent_test():\n",
    "    \"\"\"Runs the Research Agent flow within the notebook.\"\"\"\n",
    "    logging.info(\"Starting Research Agent Test...\")\n",
    "\n",
    "    # Initialize the shared data store\n",
    "    shared_data = {\n",
    "        \"topic\": None,\n",
    "        \"fetched_papers\": [],\n",
    "        \"all_chunks\": [],\n",
    "        \"chunk_source_map\": {},\n",
    "        \"temp_embeddings\": None,\n",
    "        \"temp_text_map\": {},\n",
    "        \"temp_index\": None,\n",
    "        \"query_embedding\": None,\n",
    "        \"retrieved_chunks\": [],\n",
    "        \"final_answer\": None,\n",
    "    }\n",
    "\n",
    "    # --- Optional: Hardcode topic instead of using input() for notebooks ---\n",
    "    # shared_data[\"topic\"] = \"Explain Large Language Model Agents\"\n",
    "    # logging.info(f\"Using hardcoded topic: {shared_data['topic']}\")\n",
    "    # ---------------------------------------------------------------------\n",
    "\n",
    "    # Create the Research Agent flow\n",
    "    try:\n",
    "        research_flow = create_research_agent_flow()\n",
    "        logging.info(\"Research Agent flow created.\")\n",
    "    except Exception as e:\n",
    "        logging.error(f\"Failed to create the flow: {e}\")\n",
    "        return\n",
    "\n",
    "    # Run the flow\n",
    "    try:\n",
    "        logging.info(\"Running the Research Agent flow...\")\n",
    "        # Note: The GetTopicNode uses input(). You might need to type the topic\n",
    "        # in the prompt that appears when running this cell, or modify the node\n",
    "        # to get the topic differently (e.g., from shared_data if hardcoded above).\n",
    "        research_flow.run(shared_data)\n",
    "        logging.info(\"Research Agent flow finished.\")\n",
    "    except Exception as e:\n",
    "        logging.error(f\"An error occurred during flow execution: {e}\", exc_info=True)\n",
    "        pass\n",
    "\n",
    "    # Print the final result\n",
    "    final_answer = shared_data.get(\"final_answer\", \"No answer generated.\")\n",
    "    logging.info(\"--- Test Result ---\")\n",
    "    print(f\"\\nResearch Topic: {shared_data.get('topic', 'N/A')}\")\n",
    "    print(f\"Final Answer/Summary:\\n{final_answer}\")\n",
    "    logging.info(\"-------------------\")\n",
    "\n",
    "# Execute the test function\n",
    "run_agent_test()"
   ]
  }
 ],
 "metadata": {
  "kernelspec": {
   "display_name": ".venv",
   "language": "python",
   "name": "python3"
  },
  "language_info": {
   "codemirror_mode": {
    "name": "ipython",
    "version": 3
   },
   "file_extension": ".py",
   "mimetype": "text/x-python",
   "name": "python",
   "nbconvert_exporter": "python",
   "pygments_lexer": "ipython3",
   "version": "3.10.6"
  }
 },
 "nbformat": 4,
 "nbformat_minor": 2
}
